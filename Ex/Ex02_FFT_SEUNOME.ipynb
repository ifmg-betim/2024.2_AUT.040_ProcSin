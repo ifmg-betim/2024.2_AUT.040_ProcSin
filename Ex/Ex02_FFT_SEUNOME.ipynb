{
 "cells": [
  {
   "cell_type": "markdown",
   "metadata": {},
   "source": [
    "<a href=\"https://colab.research.google.com/github/ifmg-betim/2023.2_AUT.040_ProcSin/blob/main/Ex/Ex02_FFT_SEUNOME.ipynb\" target=\"_parent\"><img src=\"https://colab.research.google.com/assets/colab-badge.svg\" alt=\"Open In Colab\"/></a>"
   ]
  },
  {
   "cell_type": "markdown",
   "metadata": {},
   "source": [
    "# Ex02 - `[escreva seu nome aqui (RA)]`\n",
    "\n",
    "Bem vindo! Nessa atividade você usará o Jupyter Notebook para analisar sinais.\n",
    "\n",
    "**HONESTIDADE ACADÊMICA**\n",
    "\n",
    "Todo o trabalho feito no sentido do cumprimento das expectativas deste curso deve ser exclusivamente seu. A colaboração de terceiros na realização dos trabalhos não é permitida.\n",
    "\n",
    "Ver ou copiar o trabalho de outro indivíduo do curso ou retirar material de um livro, site ou outra fonte, mesmo em parte e apresentá-lo como seu próprio constitui desonestidade acadêmica, assim como mostrar ou dar a sua obra, mesmo em parte, a outro estudante. Da mesma forma, é desonestidade acadêmica fornecer ou tornar as soluções disponíveis dos trabalhos para os indivíduos que fazem ou poderão fazer este curso no futuro. Você está convidado a discutir o material do curso com os outros, a fim de melhor compreendê-lo. Você pode até discutir sobre os trabalhos com os colegas, mas você não pode compartilhar códigos, funções, projetos, tabelas, desenhos esquemáticos, mapas ou diagramas.\n",
    "\n",
    "Você pode e deve recorrer à Web para obter referências na busca de soluções para os trabalhos, mas não por soluções definitivas para os problemas. No entanto, deve-se citar explicitamente no projeto a origem de qualquer procedimento ou técnica que você descubra fora do curso.\n",
    "\n",
    "Todas as formas de desonestidade acadêmica são tratadas com rigor.\n",
    "\n",
    "**Instruções:**\n",
    "- Use a versão Python 3.x\n",
    "- Não apague os comentários existentes, mas você pode adicionar outros comentários.\n",
    "- *TODOS* os gráficos devem conter rótulos adequados nos eixos vertical e horizontal.\n",
    "- *TODOS* os gráficos que possiurem mais de uma curva representada devem conter legenda apropriada.\n",
    "\n",
    "**Objetivos**\n",
    "- Implementar a transformada de Fourier para sinais\n",
    "- Analisar sinais no domínio da frequência"
   ]
  },
  {
   "cell_type": "markdown",
   "metadata": {},
   "source": [
    "## O Jupyter notebook\n",
    "\n",
    "O Jupyter Notebook é um ambiente interativo de programação em uma página web. Nesse notebook você colocará o código entre os comentários `### SEU CÓDIGO COMEÇA AQUI ###` e `### FIM DO CÓDIGO ###`. Após escrever o código, você pode executar a célula com `Shift+Enter` ou no botão \"Run\" (com símbolo de \"play\") na barra de comandos acima.\n",
    "\n",
    "Em alguns trechos será especificado \"(≈ X linhas de código)\" nos comentários para que você tenha uma ideia sobre o tamanho do código a ser desenvolvido naquele trecho. Lembrando que é só uma estimativa, o seu código pode ficar maior ou menor do que o especificado.\n",
    "\n",
    "**Alguns atalhos úteis *no código*:**\n",
    "- `Ctrl+Enter`: executa a célula e mantém o cursor na mesma célula\n",
    "- `Shift+Enter`: executa a célula e move o cursor para a próxima célula\n",
    "- `Ctrl+/` ou `Ctrl+:`: comenta a linha de código\n",
    "- `Shift+Tab`: quando o cursor estiver em uma função, mostra um HELP da função\n",
    "\n",
    "**Alguns atalhos úteis *na célula*:**\n",
    "- Cria nova célula `a`: acima, `b`: abaixo da céula selecionada\n",
    "- `d` (2x): deleta célula selecionada\n",
    "- `m`: define célula como texto (Markdown)\n",
    "- `y`: define célula como código (Python)\n",
    "- `l`: mostra numeração das linhas na célula de código\n",
    "- `c`: copiar, `v`: colar, `x`: recortar célula selecionada\n",
    "- `ctrl+shift+p`: mostra busca para todos comandos de célula"
   ]
  },
  {
   "cell_type": "markdown",
   "metadata": {},
   "source": [
    "## Análise de sinais no domínio da frequência\n",
    "Como visto em aula, para analisar sinais de tempo contínuo usando ferramenta computacional, será necessário trabalhar com sua versão *amostrada* e *finita*. Para isso, implementaremos a série de Fourier, dada por:\n",
    "$$ \\tilde{X}[k] = \\frac{1}{N} \\sum_{n=\\langle N \\rangle} \\tilde{x}[n] e^{-jk(2\\pi/N)n} .$$\n",
    "\n",
    "**Dica:** use a função FFT da biblioteca SciPy para calcular os coeficientes da série https://docs.scipy.org/doc/scipy/reference/generated/scipy.fft.fft.html. Mas não se esqueça de fazer os ajustes necessários!\n",
    "\n",
    "<mark>**Faça**</mark>: implemente uma função que receba um sinal e o respectivo vetor tempo. A função deve retornar os coeficientes da série de Fourier, prontos para serem plotados! A função deve ter os seguintes parâmetros:\n",
    "1. Nome da função:\n",
    "  + `fourier()`\n",
    "1. Entrada:\n",
    "  + `x`: vetor representando o sinal (para saber a dimensão de um vetor use `x.size` ou `len(x)`).\n",
    "  + `t`: vetor representando o tempo (esse tempo deve ser usado para determinar o período de amostragem).\n",
    "  + `Hz`: parâmetro opcional (valor padrão `Hz=False`) do tipo `bool`. Quando verdadeiro, retorna vetor de frequências em na unidade \"Hz\"; quando falso, retorna o vetor de frequências em rad/s.\n",
    "  + `dB`: parâmetro opcional (valor padrão `dB=False`) do tipo `bool`. Quando verdadeiro, retorna as amplitudes em dB.\n",
    "  + `deg`: parâmetro opcional (valor padrão `deg=False`) que, quando `deg=True`, retorna os ângulos calculados em graus (e não em radianos).\n",
    "  + `Nfft`: parâmetro opcional do tipo `int`, que passa o número de pontos a serem calculados na FFT do sinal. Quando este parâmetro não é fornecido, deve-se fazer a FFT com o mesmo número de amostras do sinal `x`.\n",
    "1. Saída:\n",
    "  + `mag`: vetor com magnitude no domínio da frequência. Se `dB=True`, essas amplitudes são calculadas em dB.\n",
    "  + `pha`: vetor com fases no domínio da frequência.\n",
    "  + `f`: vetor com as respectivas frequências, na unidade escolhida (Hz ou rad/s)."
   ]
  },
  {
   "cell_type": "code",
   "execution_count": null,
   "metadata": {},
   "outputs": [],
   "source": [
    "# Bibliotecas\n",
    "import numpy as np, scipy as sp, matplotlib.pyplot as plt\n",
    "\n",
    "### SEU CÓDIGO COMEÇA AQUI ### (≈ 8 linhas de código)\n",
    "\n",
    "def fourier(x, t, Hz, dB, deg, Nfft):\n",
    "    ...\n",
    "    return ...\n",
    "\n",
    "### FIM DO CÓDIGO ###\n",
    "\n",
    "\n",
    "T1 = .1 #interalo de amostragem\n",
    "N1 = 100 #tamanho do sinal\n",
    "t1 = np.arange(0, N1*T1, T1) #vetor de tempo (segundos)\n",
    "x1 = 2*np.sin(2*np.pi*t1+.1*np.pi) - 1.5*np.cos(4*np.pi*t1+.7*np.pi) + 1*np.cos(6*np.pi*t1)\n",
    "mag1, pha1, f1 = fourier(x1, t1, Hz=True, dB=False, deg=False, Nfft=150)\n",
    "plt.figure(figsize=(9,4))\n",
    "plt.subplot(221)\n",
    "plt.plot(f1, mag1)\n",
    "plt.ylabel(\"$|X[k]|$\")\n",
    "plt.grid(1);\n",
    "plt.subplot(223)\n",
    "plt.ylabel(\"$\\measuredangle X[k]$ (rad)\")\n",
    "plt.xlabel(\"$f$ (Hz)\")\n",
    "plt.plot(f1, pha1)\n",
    "plt.grid(1);\n",
    "\n",
    "x1 = np.sin(5*t1+.1*np.pi) - 5*np.cos(10*t1+.7*np.pi) + 10*np.cos(20*t1) + .5\n",
    "mag1, pha1, f1 = fourier(x1, t1, Hz=False, dB=True, deg=True, Nfft=None)\n",
    "plt.subplot(222)\n",
    "plt.plot(f1, mag1)\n",
    "plt.ylabel(\"$|X[k]|_{\\mathrm{dB}}$\")\n",
    "plt.grid(1);\n",
    "plt.subplot(224)\n",
    "plt.ylabel(\"$\\measuredangle X[k]$ (°)\")\n",
    "plt.xlabel(\"$\\omega$ (rad/s)\")\n",
    "plt.plot(f1, pha1)\n",
    "plt.grid(1);\n",
    "plt.tight_layout();"
   ]
  },
  {
   "cell_type": "markdown",
   "metadata": {},
   "source": [
    "**Saída esperada**:\n",
    "gráfico da transformada de Fourier de dois sinais.\n",
    "<img src=\"files/Ex02_FFTs.png\">\n",
    "___"
   ]
  },
  {
   "cell_type": "markdown",
   "metadata": {},
   "source": [
    "## Analisando sinais de áudio\n",
    "\n",
    "Agora você usará a função criada e os seus conhecimentos para analisar o sinal de áudio de dois instrumentos diferentes: um diapasão e um violoncelo. Você vai analisar os sinais do domínio do ***tempo*** e no domínio da ***frequência***.\n",
    "\n",
    "<mark> **Faça**</mark>: rode o código abaixo para carregar os arquivos de áudio."
   ]
  },
  {
   "cell_type": "code",
   "execution_count": null,
   "metadata": {
    "run_control": {
     "marked": false
    }
   },
   "outputs": [],
   "source": [
    "# Importa bibliotecas\n",
    "import numpy as np, scipy as sp, matplotlib.pyplot as plt, IPython.display as ipd\n",
    "from scipy.io import wavfile\n",
    "from scipy import signal\n",
    "import requests\n",
    "\n",
    "# Som do diapasão\n",
    "response = requests.get('https://github.com/ifmg-betim/2023.2_AUT.040_ProcSin/blob/main/Ex/Ex02_diapasao.wav?raw=true')\n",
    "open(\"diapasao.wav\", \"wb\").write(response.content)\n",
    "fs, diapasao = wavfile.read('diapasao.wav')\n",
    "diapasao = diapasao[:90000] # sinal do diapasão\n",
    "\n",
    "response = requests.get('https://github.com/ifmg-betim/2023.2_AUT.040_ProcSin/blob/main/Ex/Ex02_cello.wav?raw=true')\n",
    "open(\"cello.wav\", \"wb\").write(response.content)\n",
    "fs, cello = wavfile.read('cello.wav')\n",
    "cello = cello[10000:100000,0] # sinal do violoncelo\n",
    "\n",
    "tempo = np.arange(len(diapasao))/fs # variável TEMPO (em segundos)"
   ]
  },
  {
   "cell_type": "markdown",
   "metadata": {},
   "source": [
    "<mark> **Faça**</mark>: confirme que o sinal do ***diapasão*** foi carregado, rodando a célula abaixo e ouvindo seu som."
   ]
  },
  {
   "cell_type": "code",
   "execution_count": null,
   "metadata": {
    "run_control": {
     "marked": false
    }
   },
   "outputs": [],
   "source": [
    "ipd.Audio(diapasao, rate=fs, normalize=True)"
   ]
  },
  {
   "cell_type": "markdown",
   "metadata": {},
   "source": [
    "<mark> **Faça**</mark>: e o áudio do ***violoncelo***:"
   ]
  },
  {
   "cell_type": "code",
   "execution_count": null,
   "metadata": {
    "run_control": {
     "marked": false
    }
   },
   "outputs": [],
   "source": [
    "ipd.Audio(cello, rate=fs, normalize=True)"
   ]
  },
  {
   "cell_type": "markdown",
   "metadata": {},
   "source": [
    "___\n",
    "### Análise no domínio do TEMPO\n",
    "\n",
    "Primeiro, vamos analisar os áudios no domínio do tempo. O código acima já criou as variáveis abaixo para serem usadas:\n",
    "- `tempo`: vetor tempo apresentado na unidade \"segundos\", com frequência de amostragem de $f_s=44100$ Hz. Este vetor de tempo pode ser usado para os três sinais descritos abaixo.\n",
    "- `diapasao`: vetor com amplitude do sinal de áudio do diapasão.\n",
    "- `cello`: vetor com amplitude do sinal de áudio do violoncelo.\n",
    "\n",
    "<mark> **Faça**</mark>: usando as variáveis descritas acima, plote **num mesmo gráfico**, com tamanho `figsize=(8,1.5)`, os três sinais de áudio **no domínio do TEMPO** (escala em \"segundos\"). Inclua legenda no gráfico, usando a função `plt.legend`. Analise cada um dos sinais no tempo para responder às perguntas abaixo."
   ]
  },
  {
   "cell_type": "code",
   "execution_count": null,
   "metadata": {},
   "outputs": [],
   "source": [
    "### SEU CÓDIGO COMEÇA AQUI ### (≈ 8 linhas de código)\n",
    "...\n",
    "### FIM DO CÓDIGO ###"
   ]
  },
  {
   "cell_type": "markdown",
   "metadata": {},
   "source": [
    "**Saída esperada**:\n",
    "um único gráfico com TODOS os sinais no domínio do tempo, incluindo legenda.\n",
    "___\n",
    "\n",
    "<mark> **Faça**</mark>: Baseado na análise dos sinais no domínio do tempo, responda as questões a seguir.\n",
    "\n",
    "\n",
    "**1 - Qual dos sinais (`diapasao` ou `cello`) possui maior energia? Justifique fazendo referência explícita ao gráfico produzido.**"
   ]
  },
  {
   "cell_type": "markdown",
   "metadata": {},
   "source": [
    "**RESPOSTA** (máx. 3 linhas de resposta):"
   ]
  },
  {
   "cell_type": "markdown",
   "metadata": {},
   "source": []
  },
  {
   "cell_type": "markdown",
   "metadata": {},
   "source": [
    "___\n",
    "\n",
    "### Análise no domínio da FREQUÊNCIA\n",
    "\n",
    "Usando a função criada anteriormente, calcule a transformada de Fourier dos sinais e compare o conteúdo espectral dos sinais.\n",
    "\n",
    "\n",
    "<mark> **Faça**</mark>: obtenha a transformada de Fourier dos dois sinais de áudio com 100000 (cem mil) pontos cada um (zero-padding). Crie dois gráficos, um com *módulo* e outro com *fase*, dos sinais. Plote os três sinais *no mesmo gráfico*, usando tamanho `figsize=(8,4)` e inserindo legenda adequadamente. A unidade de frequência deve ser representada em Hertz. No gráfico, analise os sinais na frequência para responder às perguntas que seguem."
   ]
  },
  {
   "cell_type": "code",
   "execution_count": null,
   "metadata": {},
   "outputs": [],
   "source": [
    "### SEU CÓDIGO COMEÇA AQUI ### (≈ 25 linhas de código)\n",
    "...\n",
    "### FIM DO CÓDIGO ###"
   ]
  },
  {
   "cell_type": "markdown",
   "metadata": {},
   "source": [
    "**Saída esperada**:\n",
    "- Um gráfico com representação do módulo, no domínio da frequência (em Hz), de TODOS os sinais, incluindo legenda.\n",
    "- Um gráfico com representação da fase, no domínio da frequência (em Hz), de TODOS os sinais, incluindo legenda.\n",
    "___\n",
    "\n",
    "<mark> **Faça**</mark>: Baseado na análise dos sinais no domínio da frequência, responda as questões a seguir.\n",
    "\n",
    "\n",
    "**2 - Todos os instrumentos estão tocando a mesma *nota musical*? Isto é, os sinais possuem, aproximadamente a mesma *frequência fundamental*? Discuta, comentando quais instrumentos aparentam tocar a mesma frequência e eventuais discrepâncias. Suas justificativas devem se basear na análise no domínio da frequência.**\n",
    "\n",
    "**RESPOSTA** (máx. 3 linhas de resposta):"
   ]
  },
  {
   "cell_type": "markdown",
   "metadata": {},
   "source": []
  },
  {
   "cell_type": "markdown",
   "metadata": {},
   "source": [
    "**3 - Observando o domínio da frequência, qual sinal possui maior energia? Essa análise está em acordo com a análise no domínio do tempo? Justifique com base na análise no domínio da frequência.**\n",
    "\n",
    "**RESPOSTA** (máx. 3 linhas de resposta):"
   ]
  },
  {
   "cell_type": "markdown",
   "metadata": {},
   "source": []
  },
  {
   "cell_type": "markdown",
   "metadata": {},
   "source": [
    "____\n",
    "____\n",
    "# SISTEMAS: implementando sistemas\n",
    "\n",
    "Vimos que um sistema linear invariante no tempo (SLIT) pode ser representado de diferentes maneiras:\n",
    "- Diagrama esquemático (circuito)\n",
    "- Equação diferencial\n",
    "- Função de transferência\n",
    "- Resposta ao impulso do sistema\n",
    "- Resposta em frequência\n",
    "\n",
    "### Circuito RC\n",
    "Considere o sistema abaixo representado por seu ***diagrama esquemático***, em que $v_\\mathrm{in}$ representa o sinal de entrada e $v_\\mathrm{out}$ o sinal de saída.\n",
    "\n",
    "![circuito_RC](https://upload.wikimedia.org/wikipedia/commons/thumb/e/e0/1st_Order_Lowpass_Filter_RC.svg/250px-1st_Order_Lowpass_Filter_RC.svg.png)\n",
    "\n",
    "A partir do diagrama, e usando as relações \n",
    "$$ v=Ri, \\:\\:\\: i=C\\frac{dv}{dt}, $$\n",
    "é possível escrever:\n",
    "$$ v_\\mathrm{out}(t) = v_\\mathrm{in}(t)-RC \\frac{d v_\\mathrm{out}}{dt}. $$\n",
    "\n",
    "Considerando $x(t)\\equiv v_\\mathrm{in}(t)$ e $y(t)\\equiv v_\\mathrm{out}(t)$, tem-se a ***equação diferencial*** do sistema representada por:\n",
    "\n",
    "$$ \\label{eq:edo} \\tag{1} y(t) + RC \\dot{y}(t) - x(t) = 0 .$$\n",
    "\n",
    "Transformando cada termo da equação acima para o domínio de Laplace, tem se:\n",
    "\n",
    "$$ \\label{eq:lap} \\tag{2}  Y(s) + RC s Y(s) - X(s) = 0, $$\n",
    "\n",
    "em que é possível obter a ***função de transferência*** do sistema:\n",
    "\n",
    "$$ \\label{eq:tf} \\tag{3} H(s) = \\frac{Y(s)}{X(s)} = \\frac{1}{RC s + 1} .$$\n",
    "\n",
    "Fazendo a transformada inversa de Laplace de $\\eqref{eq:tf}$, é possível obter a ***resposta ao impulso***:\n",
    "\n",
    "$$ \\label{eq:ht} \\tag{4} h(t) = \\frac{1}{RC} e^{- \\left(\\frac{1}{RC}\\right) t} .$$\n",
    "\n",
    "Por fim, é possível ainda obter a ***resposta em frequência*** do sistema fazendo $H(j\\omega)=H(s)|_{s=j\\omega}$\n",
    "\n",
    "$$ H(j\\omega) = \\frac{1}{RC j\\omega + 1} .$$\n",
    "\n",
    "Na programação, utilizaremos a forma de *função de transferência* $\\eqref{eq:tf}$ para implementar no pacote SciPy. Para isso, define-se as variáveis `num` e `den` com os coeficientes do polinômio em $s$ do numerador e do denominador da função de transferência. Por exemplo, para $G(s)=\\frac{3 s^2 - 2 s +5}{7 s - 1}$, fazemos:\n",
    "\n",
    "```num = [3, -2, 5]\n",
    "den = [7, -1]\n",
    "sys = signal.lti(num, den)```\n",
    "\n",
    "Em que `sys` é um objeto que contém todas as informações sobre o sistema $G(s)=\\frac{3 s^2 - 2 s +5}{7 s - 1}$. Mais informações [nesse link](https://docs.scipy.org/doc/scipy/reference/generated/scipy.signal.lti.html?highlight=lti#scipy.signal.lti).\n",
    "\n",
    "<mark>**Faça**</mark>: implemente no código abaixo a função de transferêcia do circuito RC $\\eqref{eq:tf}$."
   ]
  },
  {
   "cell_type": "code",
   "execution_count": null,
   "metadata": {
    "run_control": {
     "marked": false
    }
   },
   "outputs": [],
   "source": [
    "# Importa bibliotecas\n",
    "import numpy as np, scipy as sp, matplotlib.pyplot as plt\n",
    "from scipy import signal\n",
    "from scipy.fft import fft\n",
    "\n",
    "# parâmetros\n",
    "R = 100\n",
    "C = 47e-3\n",
    "\n",
    "### SEU CÓDIGO COMEÇA AQUI ### (≈ 3 linhas de código)\n",
    "num = ...\n",
    "den = ...\n",
    "sys = ...\n",
    "### FIM DO CÓDIGO ###\n",
    "\n",
    "sys"
   ]
  },
  {
   "cell_type": "markdown",
   "metadata": {},
   "source": [
    "**Saída esperada**: informações sobre o objeto `sys`.\n",
    "```\n",
    "TransferFunctionContinuous(\n",
    "array([0.21276596]),\n",
    "array([1.        , 0.21276596]),\n",
    "dt: None\n",
    ")\n",
    "```\n",
    "___\n",
    "\n",
    "### Analisando o sistema implementado\n",
    "\n",
    "Para um sistema de tempo contínuo você pode usar as funções abaixo.\n",
    "- `signal.impulse(sys)`: resposta ao impulso do sistema\n",
    "- `signal.step(sys)`: resposta ao degrau do sistema\n",
    "- `signal.freqresp(sys)`: resposta em frequência\n",
    "- `signal.bode(sys)`: diagrama de Bode\n",
    "\n",
    "**Lembre-se**: você pode consultar ajuda para essas funções na [página do scipy.signal nesse link](https://docs.scipy.org/doc/scipy/reference/signal.html); digitar `?<nome_da_função>` para ver uma ajuda rápida da função; ou ainda posicionar o cursor na chamada da função e apertar `Shift+Tab` do seu teclado.\n",
    "\n",
    "<mark>**Faça**</mark>: usando os comandos acima, complete o código na célula abaixo para fazer três gráficos:\n",
    "1. Resposta ao impulso do sistema\n",
    "1. Resposta do sistema a um degrau de amplitude igual a dez, ou seja, com entrada: $x(t)= 10 u(t)$. Lembre-se que o sistema é LTI, portanto, é possível simular essa entrada usando as funções acima e alguma manipulação do sinal obtido.\n",
    "1. Diagrama de Bode do sistema (gráficos de módulo E fase)\n",
    "\n",
    "**LEIA ISTO**: Use o mesmo sistema já definido, não precisa definir o sistema novamente (a variável `sys` da célula anterior ainda existe!). TODO gráfico precisa ter rótulo nos eixos. As figuras devem ter tamanho `(8,2)`, use o comando `plt.figure(figsize=(8,2))`!\n",
    "\n",
    "**Para aprimorar (não obrigatório):** se quiser melhorar seus conhecimentos sobre a ferramenta, defina nas funções acima quais intervalos de tempo (ou de frequência) serão calculados. Isso é possível por meio de parâmetros de entrada: `T` para passar o vetor de tempo correspondente nas funções `step` e `impulse`; `w` para passar o vetor de frequências nas funções `bode` e `freqresp`."
   ]
  },
  {
   "cell_type": "code",
   "execution_count": null,
   "metadata": {},
   "outputs": [],
   "source": [
    "### SEU CÓDIGO COMEÇA AQUI ### (≈ 8 linhas de código)\n",
    "\n",
    "# resposta ao impulso\n",
    "t1, y1 = None\n",
    "\n",
    "plt.figure(figsize=(8,2))\n",
    "None\n",
    "\n",
    "### FIM DO CÓDIGO ###"
   ]
  },
  {
   "cell_type": "code",
   "execution_count": null,
   "metadata": {},
   "outputs": [],
   "source": [
    "### SEU CÓDIGO COMEÇA AQUI ### (≈ 8 linhas de código)\n",
    "\n",
    "# resposta ao degrau\n",
    "t2, y2 = None\n",
    "\n",
    "plt.figure(figsize=(8,2))\n",
    "None\n",
    "\n",
    "### FIM DO CÓDIGO ###"
   ]
  },
  {
   "cell_type": "code",
   "execution_count": null,
   "metadata": {},
   "outputs": [],
   "source": [
    "### SEU CÓDIGO COMEÇA AQUI ### (≈ 8 linhas de código)\n",
    "\n",
    "# diagrama de Bode\n",
    "None\n",
    "\n",
    "plt.figure(figsize=(8,2)) # modulo\n",
    "None\n",
    "\n",
    "plt.figure(figsize=(8,2)) # fase\n",
    "None\n",
    "\n",
    "### FIM DO CÓDIGO ###"
   ]
  },
  {
   "cell_type": "markdown",
   "metadata": {
    "id": "iDUOdgAP36Jc"
   },
   "source": [
    "**Saída esperada**:\n",
    "quatro gráficos: (1) resposta ao impulso, (2) resposta ao degrau com amplitude especificada, (3a) gráfico de módulo do diagrama de Bode do sistema e (3b) gráfico de fase do diagrama de Bode do sistema. Todos com rótulos apropriados.\n",
    "\n",
    "**Como saber que está correto meu gráfico?** Lembre-se que o gráfico se refere ao circuito RC, que possui apenas um polo real, com constante de tempo $\\tau=\\frac{1}{RC}$. Seus conhecimentos de ASDL serão úteis para verificar se o gráfico é compatível com o esperado.\n",
    "\n",
    "___\n",
    "\n",
    "## Implementação de outro sistema\n",
    "\n",
    "Agora você irá implementar um sistema linear. Seus conhecimentos em análise de circuitos serão importantes nessa etapa. Mas, antes, escreva seu RA na variável `RA` abaixo e veja qual dos circuitos (1, 2, 3 ou 4) você implementará e também quais os valores dos parâmetros R, L e C."
   ]
  },
  {
   "cell_type": "code",
   "execution_count": null,
   "metadata": {
    "run_control": {
     "marked": false
    }
   },
   "outputs": [],
   "source": [
    "### SEU CÓDIGO COMEÇA AQUI ### (1 linha)\n",
    "RA = ...\n",
    "### FIM DO CÓDIGO ###\n",
    "\n",
    "np.random.seed(RA*3+232)\n",
    "R = np.random.uniform(2,6)\n",
    "L = np.random.uniform(10,20)\n",
    "C = np.random.uniform(.4,1.2)\n",
    "print(\"ATENÇÃO: você deve implementar o circuito %d, usando os seguintes parâmetros:\"%((RA*3+7)%4+1))\n",
    "print(\"  R = %.2f Ω\\n  L = %.2f H\\n  C = %.2f F.\"%(R,L,C))"
   ]
  },
  {
   "cell_type": "markdown",
   "metadata": {},
   "source": [
    "| Sistema 1  | Sistema 2 |\n",
    "| :---:         |     :---:      |\n",
    "|![](https://upload.wikimedia.org/wikipedia/en/thumb/7/7d/RLC_low-pass.svg/320px-RLC_low-pass.svg.png)| ![](https://upload.wikimedia.org/wikipedia/en/thumb/c/ce/RLC_high-pass.svg/320px-RLC_high-pass.svg.png)|\n",
    "|       | |\n",
    "| **Sistema 3** | **Sistema 4** |\n",
    "|![](https://upload.wikimedia.org/wikipedia/en/thumb/1/14/RLC_series_band-pass.svg/320px-RLC_series_band-pass.svg.png)|![](https://upload.wikimedia.org/wikipedia/en/thumb/0/05/RLC_parallel_band-stop.svg/320px-RLC_parallel_band-stop.svg.png)|\n",
    "\n",
    "Conforme a saída da célula anterior, para o circuito escolhido, você vai fazer o seguinte:\n",
    "1. Obtenha a equação diferencial do sistema, explicitando entrada e saída (**a entrada é a tensão na parte \"in\" do circuito e a saída é a tensão em $R_L$**)\n",
    "2. Obtenha a função de transferência do sistema no domínio de Laplace\n",
    "3. Implemente a função de transferência com os valores dos parâmetros indicados na saída da célula acima\n",
    "4. Mostre o Diagrama de Bode (módulo e fase) e a resposta ao degrau do sistema\n",
    "\n",
    "Escreva os resultados de forma ***organizada*** nas células seguintes."
   ]
  },
  {
   "cell_type": "markdown",
   "metadata": {},
   "source": [
    "___\n",
    "### Equação Diferencial\n",
    "<mark>**FAÇA**</mark>: ***apague o exemplo de equação abaixo*** *e escreva a equação diferencial do sistema.*\n",
    "\n",
    "$$ 10 \\ddot y(t) + 9 \\dot y(t) + 8 y(t) = 7 \\ddot x(t) + 6 \\dot x(t) + 5 x(t) $$\n",
    "\n",
    "`<equação acima é de exemplo apenas! Altere a equação e apague esse comentário>`"
   ]
  },
  {
   "cell_type": "markdown",
   "metadata": {},
   "source": [
    "___\n",
    "### Função de transferência\n",
    "<mark>**FAÇA**</mark>: ***apague o exemplo de função de transferência abaixo*** *e escreva abaixo a função de transferência do sistema.*\n",
    "\n",
    "$$ H(s) = \\frac{ 10 s^2 - 9 s + 8 }{ -7 s^3 + 6 s^2 - 5 s + 4 }$$\n",
    "`<equação acima é de exemplo apenas! Altere a equação e apague esse comentário>`"
   ]
  },
  {
   "cell_type": "markdown",
   "metadata": {},
   "source": [
    "___\n",
    "### Simulação do sistema\n",
    "\n",
    "<mark>**Faça**</mark>: \n",
    "1. Implemente a função de transferência com os valores dos parâmetros indicados anteriormente\n",
    "1. Mostre os seguintes gráficos\n",
    "   - Diagrama de Bode do sistema com gráficos de módulo (dB) e de fase (em graus), com eixo das frequências em Hz\n",
    "   - Resposta ao degrau do sistema\n",
    "\n",
    "**Obs.:** TODO gráfico precisa ter rótulo nos eixos. As figuras devem ter tamanho `plt.figure(figsize=(8,2))`!"
   ]
  },
  {
   "cell_type": "code",
   "execution_count": null,
   "metadata": {
    "run_control": {
     "marked": false
    }
   },
   "outputs": [],
   "source": [
    "### SEU CÓDIGO COMEÇA AQUI ### (≈ 40 linhas de código)\n",
    "\n",
    "# Sistema (complete o código!)\n",
    "num = ...\n",
    "den = ...\n",
    "sys = ...\n",
    "\n",
    "# Calcula diagrama de Bode\n",
    "...\n",
    "\n",
    "# Converte frequências para Hz\n",
    "...\n",
    "\n",
    "# Resposta ao degrau\n",
    "...\n",
    "\n",
    "# Figuras\n",
    "plt.figure(figsize=(8,2))\n",
    "...\n",
    "plt.title(\"Diagrama de Bode\")\n",
    "\n",
    "plt.figure(figsize=(8,2))\n",
    "...\n",
    "\n",
    "plt.figure(figsize=(8,2))\n",
    "...\n",
    "plt.title(\"Resposta ao degrau\");\n",
    "### FIM DO CÓDIGO ###"
   ]
  },
  {
   "cell_type": "markdown",
   "metadata": {},
   "source": [
    "**Saída esperada**:\n",
    "1. diagrama de Bode com magnitude em dB e frequências em Hz;\n",
    "2. digrama de Bode com fase em graus e eixo das frequências em Hz;\n",
    "2. resposta ao degrau do sistema.\n",
    "___\n",
    "\n",
    "## Simulando o sistema\n",
    "\n",
    "Agora você vai aplicar um sinal aleatório na entrada do sistema $x(t)$ e verificar a sua respectiva resposta $y(t)$. O código já implementado abaixo constrói o vetor `tempo`, com `N` pontos e período de amostragem `T`. O sinal aleatório é criado na variável `xa`, com distribuição gaussiana, usando a função `np.random.normal(loc=valormedio, scale=desviopadrao, size=numeropontos)`, com média nula e desvio padrão igual a `10`. Você pode fazer ajustes nos parâmetros de criação do sinal aleatório, se achar necessário.\n",
    "\n",
    "<mark>**Faça**</mark>:\n",
    "1. Aplique o sinal `xa` no sistema (circuito RLC), com condições iniciais nulas, e colete a respectiva saída `ya`. Para isso, use a função `signal.lsim` (consulte [esse link](https://docs.scipy.org/doc/scipy/reference/generated/scipy.signal.lsim.html#scipy.signal.lsim)). Ao usar a função `signal.lsim`, não deixe de passar o vetor `tempo` como parâmetro.\n",
    "1. Plote, num mesmo gráfico, os sinais de entrada `xa` e de saída `ya` no *domínio do tempo*. O gráfico deve ter tamanho `figsize=(8,2)`.\n",
    "1. Plote, num mesmo gráfico, o módulo de `xa`, o módulo de `ya` (não precisa plotar a fase!) e a resposta em frequência do sistema. Ajuste as escalas e eixos (frequências em Hz) de modo a ficar claro a modificação que o sistema fez no sinal de entrada `xa` para produzir a saída `ya`.\n",
    "\n",
    "**Faça tudo num único gráfico**, de tamanho `figsize=(8,2)`:\n",
    "   - módulo da FFT do sinal de entrada `xa` (use a função que você criou na atividade prática anterior!), com frequências em Hz;\n",
    "   - módulo da FFT do sinal de saída `ya` (use a função que você criou na atividade prática anterior!), com frequências em Hz;\n",
    "   - módulo da resposta em frequência do sistema (não faça em dB não!), com frequências em Hz."
   ]
  },
  {
   "cell_type": "code",
   "execution_count": null,
   "metadata": {
    "run_control": {
     "marked": false
    }
   },
   "outputs": [],
   "source": [
    "########################################################\n",
    "### INSIRA NESTA CÉLULA A FUNÇÃO PARA CÁLCULO DA FFT ###\n",
    "########################################################\n",
    "def serieFourier(...):\n",
    "    ..."
   ]
  },
  {
   "cell_type": "code",
   "execution_count": null,
   "metadata": {
    "run_control": {
     "marked": false
    }
   },
   "outputs": [],
   "source": [
    "# Vetor tempo\n",
    "N = 600\n",
    "T = 2\n",
    "tempo = np.linspace(0, N*T, N)\n",
    "\n",
    "# Sinal aleatório\n",
    "xa = np.random.normal(loc=0, scale=10, size=len(tempo))\n",
    "\n",
    "\n",
    "### SEU CÓDIGO COMEÇA AQUI ###\n",
    "\n",
    "\n",
    "\n",
    "plt.figure(figsize=(8,2))\n",
    "...\n",
    "plt.title(\"Domínio do Tempo\")\n",
    "\n",
    "\n",
    "plt.figure(figsize=(8,2))\n",
    "...\n",
    "plt.title(\"Domínio da Frequência\")\n",
    "\n",
    "### FIM DO CÓDIGO ###"
   ]
  },
  {
   "cell_type": "markdown",
   "metadata": {},
   "source": [
    "**Saída esperada**. Dois gráficos:\n",
    "1. Sinais `xa` e `ya` no *domínio do tempo*, num único gráfico, com eixos apropriados, legenda, tamanho `figsize=(8,2)` e título \"Domínio do Tempo\".\n",
    "1. Gráfico de módulo no domínio da frequência (não faça em dB não!) dos sinais, num mesmo gráfico, dos sinais `xa`, `ya` e da resposta em frequência do sistema, com frequências em Hz, legenda, tamanho `figsize=(8,2)`, escalas apropriadas, evidenciando a ação do sistema no sinal.\n",
    "\n",
    "___\n",
    "\n",
    "# Concluões\n",
    "\n",
    "<mark>**Faça**</mark>: Responda as seguintes perguntas:\n",
    "\n",
    "**4 - O circuito simulado é um filtro de qual tipo? Justifique mencionando EXPLICITAMENTE o(s) gráfico(s) produzido(s).**"
   ]
  },
  {
   "cell_type": "markdown",
   "metadata": {},
   "source": []
  },
  {
   "cell_type": "markdown",
   "metadata": {},
   "source": [
    "___\n",
    "\n",
    "Fim...\n",
    "\n",
    "Acabou rápido? Faça os desafios opcionais abaixo! Se não fizer, tudo bem :c)"
   ]
  },
  {
   "cell_type": "markdown",
   "metadata": {},
   "source": [
    "___\n",
    "___\n",
    "# DESAFIO 1 (opcional)\n",
    "\n",
    "Faça a FFT de um sinal real de ECG (eletrocardiograma) de uma pessoa saudável e uma pessoa com alguma anomalia. Acesse os dados neste repositório:\n",
    "https://github.com/iizukak/ecg-htm\n",
    "\n",
    "Neste outro repositório tem uma explicação sobre o sinal ECG: https://github.com/mozanunal/digital-filtering-of-ecg-signal\n",
    "\n",
    "É possível distinguir o ECG normal do sinal de ECG com alguma anormalia pela FFT do sinal?\n",
    "\n",
    "**Para saber mais**: pesquise sobre como gerar um *espectrograma* do sinal acima e qual sua interpretação."
   ]
  },
  {
   "cell_type": "code",
   "execution_count": null,
   "metadata": {},
   "outputs": [],
   "source": [
    "### SEU CÓDIGO COMEÇA AQUI ###\n",
    "...\n",
    "### FIM DO CÓDIGO ###"
   ]
  },
  {
   "cell_type": "markdown",
   "metadata": {
    "id": "Xz6d7vp536Jo"
   },
   "source": [
    "___\n",
    "# DESAFIO 2 (opcional)\n",
    "\n",
    "1. Analise os circuitos abaixo e obtenha função de transferência dos filtros abaixo.\n",
    "1. Simule os filtros e obtenha diagrama de Bode dos sistemas.\n",
    "1. Simule a composição em série dos circuitos abaixo. Qual tipo de filtro foi produzido?\n",
    "1. Alterando parâmetros do sistema (valores de resistências, capacitâncias ou indutâncias) e observando a resposta em frequência, produza, a partir dos circuitos, um filtro passa-faixa. Mostre quais são as frequências de corte e de passagem do filtro produzido.\n",
    "1. Alterando parâmetros do sistema (valores de resistências, capacitâncias ou indutâncias) e observando a resposta em frequência, produza, a partir dos circuitos, um filtro rejeita-faixa. Mostre quais são as frequências de corte e de passagem do filtro produzido.\n",
    "\n",
    "**Circuito A:**\n",
    "\n",
    "![](https://upload.wikimedia.org/wikipedia/commons/5/5c/Sallen-Key_Lowpass_Example.svg)\n",
    "\n",
    "**Circuito B:**\n",
    "\n",
    "![](https://upload.wikimedia.org/wikipedia/commons/e/ec/Sallen-Key_Highpass_Example.svg)\n"
   ]
  },
  {
   "cell_type": "code",
   "execution_count": null,
   "metadata": {},
   "outputs": [],
   "source": [
    "### SEU CÓDIGO COMEÇA AQUI ###\n",
    "...\n",
    "### FIM DO CÓDIGO ###"
   ]
  },
  {
   "cell_type": "markdown",
   "metadata": {},
   "source": [
    "Fim (ufa!)"
   ]
  }
 ],
 "metadata": {
  "@webio": {
   "lastCommId": null,
   "lastKernelId": null
  },
  "kernelspec": {
   "display_name": "Python 3",
   "language": "python",
   "name": "python3"
  },
  "language_info": {
   "codemirror_mode": {
    "name": "ipython",
    "version": 3
   },
   "file_extension": ".py",
   "mimetype": "text/x-python",
   "name": "python",
   "nbconvert_exporter": "python",
   "pygments_lexer": "ipython3",
   "version": "3.6.15"
  },
  "toc": {
   "base_numbering": 1,
   "nav_menu": {
    "height": "228px",
    "width": "370px"
   },
   "number_sections": true,
   "sideBar": true,
   "skip_h1_title": false,
   "title_cell": "Table of Contents",
   "title_sidebar": "Contents",
   "toc_cell": false,
   "toc_position": {},
   "toc_section_display": true,
   "toc_window_display": false
  },
  "varInspector": {
   "cols": {
    "lenName": 16,
    "lenType": 16,
    "lenVar": 40
   },
   "kernels_config": {
    "python": {
     "delete_cmd_postfix": "",
     "delete_cmd_prefix": "del ",
     "library": "var_list.py",
     "varRefreshCmd": "print(var_dic_list())"
    },
    "r": {
     "delete_cmd_postfix": ") ",
     "delete_cmd_prefix": "rm(",
     "library": "var_list.r",
     "varRefreshCmd": "cat(var_dic_list()) "
    }
   },
   "types_to_exclude": [
    "module",
    "function",
    "builtin_function_or_method",
    "instance",
    "_Feature"
   ],
   "window_display": false
  }
 },
 "nbformat": 4,
 "nbformat_minor": 2
}
