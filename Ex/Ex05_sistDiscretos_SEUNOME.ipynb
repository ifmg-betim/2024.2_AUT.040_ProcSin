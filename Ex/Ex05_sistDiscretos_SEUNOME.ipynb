{
 "cells": [
  {
   "cell_type": "markdown",
   "metadata": {},
   "source": [
    "<a href=\"https://colab.research.google.com/github/ifmg-betim/2024.2_AUT.040_ProcSin/blob/main/Ex/Ex05_sistDiscretos_SEUNOME.ipynb\" target=\"_parent\"><img src=\"https://colab.research.google.com/assets/colab-badge.svg\" alt=\"Open In Colab\"/></a>"
   ]
  },
  {
   "cell_type": "markdown",
   "metadata": {},
   "source": [
    "# Ex05 - `[seu nome] (RA)`\n",
    "\n",
    "Sistemas lineares (SLITs) de tempo discreto.\n",
    "\n",
    "**HONESTIDADE ACADÊMICA**\n",
    "\n",
    "Todo o trabalho feito no sentido do cumprimento das expectativas deste curso deve ser exclusivamente seu. A colaboração de terceiros na realização dos trabalhos não é permitida.\n",
    "\n",
    "Ver ou copiar o trabalho de outro indivíduo do curso ou retirar material de um livro, site ou outra fonte, mesmo em parte e apresentá-lo como seu próprio constitui desonestidade acadêmica, assim como mostrar ou dar a sua obra, mesmo em parte, a outro estudante. Da mesma forma, é desonestidade acadêmica fornecer ou tornar as soluções disponíveis dos trabalhos para os indivíduos que fazem ou poderão fazer este curso no futuro. Você está convidado a discutir o material do curso com os outros, a fim de melhor compreendê-lo. Você pode até discutir sobre os trabalhos com os colegas, mas você não pode compartilhar códigos, funções, projetos, tabelas, desenhos esquemáticos, mapas ou diagramas.\n",
    "\n",
    "Você pode e deve recorrer à Web para obter referências na busca de soluções para os trabalhos, mas não por soluções definitivas para os problemas. No entanto, deve-se citar explicitamente no projeto a origem de qualquer procedimento ou técnica que você descubra fora do curso.\n",
    "\n",
    "Todas as formas de desonestidade acadêmica são tratadas com rigor.\n",
    "\n",
    "\n",
    "**Instruções:**\n",
    "- Não apague os comentários que já existem nas células de código. Mas é claro que você pode adicionar outros comentários.\n",
    "- Não inclua mais células do que o especificado e mantenha a organização.\n",
    "- Use `plt.figure(figsize=(10,2))` para ajustar o tamanho das figuras e sempre coloque rótulos.\n",
    "\n",
    "**Objetivos**\n",
    "- Implementar diferentes sistemas discretos\n",
    "- Analisar os sistemas implementados"
   ]
  },
  {
   "cell_type": "markdown",
   "metadata": {},
   "source": [
    "## Dados epidemiológicos\n",
    "\n",
    "O código abaixo carrega os dados atualizados da covid-19 no Brasil (Fonte: https://github.com/datasets/covid-19)."
   ]
  },
  {
   "cell_type": "code",
   "execution_count": null,
   "metadata": {
    "run_control": {
     "marked": false
    }
   },
   "outputs": [],
   "source": [
    "# Importa dados\n",
    "import pandas as pd, numpy as np\n",
    "URL_DATASET = r'https://raw.githubusercontent.com/datasets/covid-19/master/data/countries-aggregated.csv'\n",
    "dados = pd.read_csv(URL_DATASET)\n",
    "\n",
    "# datas\n",
    "datas = dados[dados['Country'] == 'Brazil']['Date']\n",
    "\n",
    "# número de casos confirmados\n",
    "brCas = dados[dados['Country'] == 'Brazil']['Confirmed'].to_numpy(dtype=np.float64)\n",
    "\n",
    "# número de mortes\n",
    "brMor = dados[dados['Country'] == 'Brazil']['Deaths'].to_numpy(dtype=np.float64)\n",
    "\n",
    "dados[dados['Country'] == 'Brazil'].head(-1)"
   ]
  },
  {
   "cell_type": "markdown",
   "metadata": {},
   "source": [
    "Você utilizará as seguintes variáveis já criadas no código acima:\n",
    "- `brCas`: número total de casos confirmados\n",
    "- `brMor`: número total de mortes\n",
    "\n",
    "<mark>**Fazer:** importe as bibliotecas necessárias e plote os gráficos das duas variáveis acima. Use `figsize=(10,2)`.</mark>"
   ]
  },
  {
   "cell_type": "code",
   "execution_count": null,
   "metadata": {},
   "outputs": [],
   "source": [
    "### SEU CÓDIGO COMEÇA AQUI ###\n",
    "...\n",
    "### FIM DO CÓDIGO ###"
   ]
  },
  {
   "cell_type": "markdown",
   "metadata": {},
   "source": [
    "**Saída esperada**:\n",
    "1. Gráfico do número total de casos confirmados, número total de mortes. Todos num mesmo gráfico, com legendas, rótulos e dimensões apropriadas.\n",
    "---\n",
    "\n",
    "## Sistema de diferenças regressivas (casos diários)\n",
    "\n",
    "Para melhor analisarmos os dados, plote os dados *diários* no lugar dos dados *totais*. Para fazer isso, implemente um sistema FIR de diferenças regressivas, dado por:\n",
    "\n",
    "$$ y(k) = u(k) - u(k-1) $$\n",
    "\n",
    "Obs.: note que esse sistema pode ser implementado usando um laço `for` convencional; ou pode ser implementado de forma *vetorizada*, usando operações com vetores; ou ainda, usando a função `dlsim` com `dlti`.\n",
    "\n",
    "<mark>**Fazer:** implemente o sistema de diferenças regressivas usando a função `dlti` (você precisará transformar a equação para o domínio z) e plote o diagrama de Bode (módulo e fase) do sistema usando `dbode`. Use `figsize=(10,2)`.</mark>"
   ]
  },
  {
   "cell_type": "code",
   "execution_count": null,
   "metadata": {},
   "outputs": [],
   "source": [
    "### SEU CÓDIGO COMEÇA AQUI ###\n",
    "...\n",
    "### FIM DO CÓDIGO ###"
   ]
  },
  {
   "cell_type": "markdown",
   "metadata": {},
   "source": [
    "**Saída esperada**:\n",
    "1. Diagrama de Bode (módulo e fase) do sistemas de diferenças regressivas. O gráfico deve ter legendas, ***rótulos*** (expresse a unidade de frequência corretamente!) e dimensões apropriadas.\n",
    "---\n",
    "\n",
    "## Casos diários\n",
    "\n",
    "<mark>**Fazer:** passe os sinais `brCas` e `brMor` no sistema de diferenças regressivas implementado e mostre em gráficos diferentes: os casos diários e mortes diárias. Use `figsize=(9,2)`.</mark>"
   ]
  },
  {
   "cell_type": "code",
   "execution_count": null,
   "metadata": {},
   "outputs": [],
   "source": [
    "### SEU CÓDIGO COMEÇA AQUI ###\n",
    "...\n",
    "### FIM DO CÓDIGO ###"
   ]
  },
  {
   "cell_type": "markdown",
   "metadata": {},
   "source": [
    "**Saída esperada**:\n",
    "1. Gráfico do número de casos confirmados diários\n",
    "1. Gráfico do número de mortes diárias\n",
    "---\n",
    "\n",
    "## Análise na frequência\n",
    "\n",
    "Agora faça análise desses sinais no domínio da frequência.\n",
    "\n",
    "**ATENÇÃO**: a partir de agora, use os ***dados diários*** apenas, obtidos com o sistema de diferenças regressivas, não use os dados de mortes/casos totais não!\n",
    "\n",
    "<mark>**Fazer:** faça a FFT (somente módulo) dos sinais acima. Sabendo que o período de amostragem é de um dia, represente o eixo horizontal da FFT em uma unidade apropriada (ex.: \"1/dia\").</mark>"
   ]
  },
  {
   "cell_type": "code",
   "execution_count": null,
   "metadata": {},
   "outputs": [],
   "source": [
    "### SEU CÓDIGO COMEÇA AQUI ###\n",
    "...\n",
    "### FIM DO CÓDIGO ###"
   ]
  },
  {
   "cell_type": "markdown",
   "metadata": {},
   "source": [
    "**Saída esperada**:\n",
    "1. FFT (módulo) do número de casos confirmados\n",
    "1. FFT (módulo) do número de mortes\n",
    "---\n",
    "\n",
    "## Sistemas de tempo discreto\n",
    "\n",
    "Usando as funções da biblioteca de processamento de sinais (https://docs.scipy.org/doc/scipy/reference/signal.html), implemente os seguintes sistemas:\n",
    "1. Sistema de diferenças regressivas\n",
    "1. Sistema média móvel causal de 7 amostras (uma semana)\n",
    "1. Sistema média móvel não causal de 7 amostras (uma semana)\n",
    "\n",
    "**ATENÇÃO**: os sistemas acima devem ser implementados para os ***dados diários*** apenas, obtidos com o primeiro sistema de diferenças regressivas, não use os dados de mortes/casos totais não! Neste ponto, deve ser implementado OUTRO sistema de diferenças regressivas -- e também os demais sistemas.\n",
    "\n",
    "**ATENÇÃO**: as funções usadas para sistemas contínuos são diferentes das usadas para sistemas discretos.\n",
    "\n",
    "Após implementar os três sistemas acima, para cada um deles faça:\n",
    "- Plote o diagrama de Bode do sistema (módulo e fase)\n",
    "- Mostre a resposta ao degrau do sistema\n",
    "- Mostre a constelação de polos e zeros no plano z (opcional: você pode usar a função `control.pzmap` da biblioteca 'Python Control Systems Library' se quiser)\n",
    "\n",
    "<mark>**Fazer:** mostre os gráficos para cada sistema em uma célula.</mark>"
   ]
  },
  {
   "cell_type": "code",
   "execution_count": null,
   "metadata": {},
   "outputs": [],
   "source": [
    "### SEU CÓDIGO COMEÇA AQUI ###\n",
    "...\n",
    "### FIM DO CÓDIGO ###"
   ]
  },
  {
   "cell_type": "markdown",
   "metadata": {},
   "source": [
    "**Saída esperada**:\n",
    "1. Diagrama de Bode do **sistema de diferenças regressivas**\n",
    "1. Resposta ao degrau\n",
    "1. Constelação de polos e zeros"
   ]
  },
  {
   "cell_type": "code",
   "execution_count": null,
   "metadata": {},
   "outputs": [],
   "source": [
    "### SEU CÓDIGO COMEÇA AQUI ###\n",
    "...\n",
    "### FIM DO CÓDIGO ###"
   ]
  },
  {
   "cell_type": "markdown",
   "metadata": {},
   "source": [
    "**Saída esperada**:\n",
    "1. Diagrama de Bode do **sistema média móvel causal**\n",
    "1. Resposta ao degrau\n",
    "1. Constelação de polos e zeros"
   ]
  },
  {
   "cell_type": "code",
   "execution_count": null,
   "metadata": {},
   "outputs": [],
   "source": [
    "### SEU CÓDIGO COMEÇA AQUI ###\n",
    "...\n",
    "### FIM DO CÓDIGO ###"
   ]
  },
  {
   "cell_type": "markdown",
   "metadata": {},
   "source": [
    "**Saída esperada**:\n",
    "1. Diagrama de Bode do **sistema média móvel não causal**\n",
    "1. Resposta ao degrau\n",
    "1. Constelação de polos e zeros\n",
    "---\n",
    "\n",
    "## Passando os dados pelos sistemas\n",
    "\n",
    "Abaixo, passe os dados de morte por covid pelos três sistemas implementados. Faça os seguinte gráficos:\n",
    "1. Compare o sinal, no domínio do tempo, antes e após passar pelo sistema\n",
    "1. Compare o módulo da FFT do sinal, no domínio do frequência, antes e após passar pelo sistema"
   ]
  },
  {
   "cell_type": "code",
   "execution_count": null,
   "metadata": {},
   "outputs": [],
   "source": [
    "### SEU CÓDIGO COMEÇA AQUI ###\n",
    "...\n",
    "### FIM DO CÓDIGO ###"
   ]
  },
  {
   "cell_type": "markdown",
   "metadata": {},
   "source": [
    "**Saída esperada**:\n",
    "1. Gráfico no domínio do tempo da entrada e saída de cada sistema sistema\n",
    "1. Gráfico de FFT entrada e saída de cada sistema sistema"
   ]
  },
  {
   "cell_type": "code",
   "execution_count": null,
   "metadata": {},
   "outputs": [],
   "source": [
    "### SEU CÓDIGO COMEÇA AQUI ###\n",
    "...\n",
    "### FIM DO CÓDIGO ###"
   ]
  },
  {
   "cell_type": "markdown",
   "metadata": {},
   "source": [
    "**Saída esperada**:\n",
    "1. Gráfico no domínio do tempo da entrada e saída de cada sistema sistema\n",
    "1. Gráfico de FFT entrada e saída de cada sistema sistema"
   ]
  },
  {
   "cell_type": "code",
   "execution_count": null,
   "metadata": {},
   "outputs": [],
   "source": [
    "### SEU CÓDIGO COMEÇA AQUI ###\n",
    "...\n",
    "### FIM DO CÓDIGO ###"
   ]
  },
  {
   "cell_type": "markdown",
   "metadata": {},
   "source": [
    "**Saída esperada**:\n",
    "1. Gráfico no domínio do tempo da entrada e saída de cada sistema sistema\n",
    "1. Gráfico de FFT entrada e saída de cada sistema sistema\n",
    "___\n",
    "\n",
    "# Concluões\n",
    "\n",
    "**1 - O sistema média móvel pode ser classificado como qual tipo de filtro? Justifique baseado no gráfico apresentado de resposta em frequência do sistema.**"
   ]
  },
  {
   "cell_type": "markdown",
   "metadata": {},
   "source": [
    "**Resposta:**\n",
    "\n",
    "`[escreva aqui sua resposta]`"
   ]
  },
  {
   "cell_type": "markdown",
   "metadata": {},
   "source": [
    "**2 - O sistema de diferenças regressivas pode ser classificado como qual tipo de filtro? Justifique baseado no gráfico apresentado de resposta em frequência do sistema.**"
   ]
  },
  {
   "cell_type": "markdown",
   "metadata": {},
   "source": [
    "**Resposta:**\n",
    "\n",
    "`[escreva aqui sua resposta]`"
   ]
  },
  {
   "cell_type": "markdown",
   "metadata": {},
   "source": [
    "______________\n",
    "\n",
    "# Desafio (opcional)\n",
    "\n",
    "Esta é uma atividade exploratória. Use os seus conhecimentos (e também de pesquisas na internet) sobre processamento de sinais discretos para comparar os números da covid no Brasil com outros países do mundo, como a média mundial, referências de outros países do mesmo \"bloco\", do mesmo continente, etc. Use livremente seus conhecimentos sobre processamento de sinais para extrair informações interessantes dos dados da covid. Mostre e comente abaixo resultados interessantes que tenha extraído."
   ]
  },
  {
   "cell_type": "code",
   "execution_count": null,
   "metadata": {},
   "outputs": [],
   "source": [
    "### SEU CÓDIGO COMEÇA AQUI ###\n",
    "...\n",
    "### FIM DO CÓDIGO ###"
   ]
  },
  {
   "cell_type": "markdown",
   "metadata": {},
   "source": [
    "Bom trabalho :c)"
   ]
  }
 ],
 "metadata": {
  "@webio": {
   "lastCommId": null,
   "lastKernelId": null
  },
  "kernelspec": {
   "display_name": "Python 3 (ipykernel)",
   "language": "python",
   "name": "python3"
  },
  "language_info": {
   "codemirror_mode": {
    "name": "ipython",
    "version": 3
   },
   "file_extension": ".py",
   "mimetype": "text/x-python",
   "name": "python",
   "nbconvert_exporter": "python",
   "pygments_lexer": "ipython3",
   "version": "3.11.5"
  },
  "toc": {
   "base_numbering": 1,
   "nav_menu": {
    "height": "228px",
    "width": "370px"
   },
   "number_sections": true,
   "sideBar": true,
   "skip_h1_title": false,
   "title_cell": "Table of Contents",
   "title_sidebar": "Contents",
   "toc_cell": false,
   "toc_position": {},
   "toc_section_display": true,
   "toc_window_display": false
  },
  "varInspector": {
   "cols": {
    "lenName": 16,
    "lenType": 16,
    "lenVar": 40
   },
   "kernels_config": {
    "python": {
     "delete_cmd_postfix": "",
     "delete_cmd_prefix": "del ",
     "library": "var_list.py",
     "varRefreshCmd": "print(var_dic_list())"
    },
    "r": {
     "delete_cmd_postfix": ") ",
     "delete_cmd_prefix": "rm(",
     "library": "var_list.r",
     "varRefreshCmd": "cat(var_dic_list()) "
    }
   },
   "types_to_exclude": [
    "module",
    "function",
    "builtin_function_or_method",
    "instance",
    "_Feature"
   ],
   "window_display": false
  }
 },
 "nbformat": 4,
 "nbformat_minor": 4
}
