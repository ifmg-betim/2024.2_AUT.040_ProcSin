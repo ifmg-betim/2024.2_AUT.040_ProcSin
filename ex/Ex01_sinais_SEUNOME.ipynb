{
 "cells": [
  {
   "cell_type": "markdown",
   "metadata": {
    "colab_type": "text",
    "id": "view-in-github"
   },
   "source": [
    "<a href=\"https://colab.research.google.com/github/ifmg-betim/2024.2_AUT.040_ProcSin/blob/main/Ex/Ex01_sinais_SEUNOME.ipynb\" target=\"_parent\"><img src=\"https://colab.research.google.com/assets/colab-badge.svg\" alt=\"Open In Colab\"/></a>"
   ]
  },
  {
   "cell_type": "markdown",
   "metadata": {
    "id": "gjqIQR7AwFk-"
   },
   "source": [
    "# Ex01 - `[Nome - RA]`\n",
    "\n",
    "Bem vindo!\n",
    "Neste exercício computacional você utilizará o Jupyter Notebook para utilizar algumas funções preliminares e também para descrever o sistema dinâmico que você utilizará ao longo do semestre.\n",
    "\n",
    "**Instruções:**\n",
    "- Use a versão Python 3.x\n",
    "- Evite sempre usar usar laços `for` e `while`, fazer contas no formato vetorial é sempre mais rápido.\n",
    "- Não apague os comentários que já existem nas células de código. Mas é claro que você pode adicionar outros comentários.\n",
    "\n",
    "**Objetivos**\n",
    "- Iniciar o uso do Jupyter Notebook, usando linguagem Python\n",
    "- Usar funções das principais bibliotecas, como numpy e matplotlib\n",
    "- Aplicar conceitos de sinais"
   ]
  },
  {
   "cell_type": "markdown",
   "metadata": {
    "id": "AGNwierXwFlE"
   },
   "source": [
    "## O Jupyter notebook\n",
    "\n",
    "O Jupyter Notebook é um ambiente interativo de programação em uma página web. Nesse notebook você colocará o código entre os comentários `### SEU CÓDIGO COMEÇA AQUI ###` e `### FIM DO CÓDIGO ###`. Após escrever o código, você pode executar a célula com `Shift+Enter` ou no botão \"Run\" (com símbolo de \"play\") na barra de comandos acima.\n",
    "\n",
    "Em alguns trechos será especificado `(≈ X linhas de código)` nos comentários para que você tenha uma ideia sobre o tamanho do código a ser desenvolvido naquele trecho. Lembrando que é só uma estimativa, o seu código pode ficar maior ou menor do que o especificado.\n",
    "\n",
    "**Alguns atalhos úteis *no código*:**\n",
    "- `Ctrl+Enter`: executa a célula e mantém o cursor na mesma célula\n",
    "- `Shift+Enter`: executa a célula e move o cursor para a próxima célula\n",
    "- `Ctrl+/`: comenta a linha de código\n",
    "- `Shift+Tab`: quando o cursor estiver em uma função, mostra um HELP da função\n",
    "\n",
    "**Alguns atalhos úteis *na célula*:**\n",
    "- Cria nova célula `a`: acima, `b`: abaixo da céula selecionada\n",
    "- `d` (2x): deleta célula selecionada\n",
    "- `m`: define célula como texto (Markdown)\n",
    "- `y`: define célula como código (Python)\n",
    "- `l`: mostra numeração das linhas na célula de código\n",
    "- `c`: copiar, `v`: colar, `x`: recortar célula selecionada\n",
    "- `ctrl+shift+p`: mostra busca para todos comandos de célula\n",
    "\n",
    "**Google Colab (opcional)**\n",
    "\n",
    "Alternativamente ao Jupyter Notebook local, você pode usar o Google Colab (https://colab.research.google.com/) para escrever e rodar códigos na nuvem. O Google disponibiliza servidores que rodam o código remotamente. É fácil de usar, mas talvez você tenha problemas para acessar arquivos locais (como as imagens da \"saída esperada\" por exemplo). A solução seria utilizar o Drive para trocar arquivos com o Colab.\n",
    "\n",
    "## Primeiros passos\n",
    "Comece com um `print` de `\"Olá mundo\"` na célula abaixo."
   ]
  },
  {
   "cell_type": "code",
   "execution_count": null,
   "metadata": {
    "id": "R3CvSzRcwFlH"
   },
   "outputs": [],
   "source": [
    "### SEU CÓDIGO COMEÇA AQUI ### (≈ 1 linha de código)\n",
    "None\n",
    "### FIM DO CÓDIGO ###"
   ]
  },
  {
   "cell_type": "markdown",
   "metadata": {
    "id": "GI8Gmq9TwFlK"
   },
   "source": [
    "**Saída esperada**:\n",
    "Olá mundo\n",
    "___"
   ]
  },
  {
   "cell_type": "markdown",
   "metadata": {
    "id": "ShIpun9cwFlL"
   },
   "source": [
    "A biblioteca NumPy é uma das mais importantes que usaremos. Cálculos matemáticos envolvendo funções, álgebra linear, números aleatórios devem ser procurados nessa biblioteca. Evite usar outras (e.g. math). Para começar, importe a biblioteca `numpy` com o alias `np`, usando o comando:\n",
    "\n",
    "`import numpy as np`\n",
    "\n",
    "Na mesma célula abaixo, teste a função seno `np.sin(x)` com entrada `x=75.2` (não precisa criar a variável `x`). Note que ao escrever o comando `np.sin(75.2)` na última linha de código da célula, o retorno da função é ecoado na saída, mostrada logo abaixo da célula. Isso é util às vezes para ver o retorno de uma função sem precisar usar o comando `print`. Se você não quiser que o valor seja ecoado na saída, basta colocar um `;` (ponto e vírgula) após o comando."
   ]
  },
  {
   "cell_type": "code",
   "execution_count": null,
   "metadata": {
    "id": "1oz3zjSXwFlM"
   },
   "outputs": [],
   "source": [
    "### SEU CÓDIGO COMEÇA AQUI ### (≈ 2 linhas de código)\n",
    "None\n",
    "### FIM DO CÓDIGO ###"
   ]
  },
  {
   "cell_type": "markdown",
   "metadata": {
    "id": "VNIzBADvwFlN"
   },
   "source": [
    "**Saída esperada**:\n",
    "-0.19692811244968383\n",
    "\n",
    "Na célula abaixo, use as funções abaixo com os respectivos valores apresentados e mostre os resultados na saída. Lembre-se: todas essas funções já estão implementadas no NumPy (https://numpy.org/devdocs/reference/routines.math.html), não é necessário implementá-las manualmente.\n",
    "1. Exponencial (exp): $e^x$, com $x=7$\n",
    "1. Sinal (sign): $\\rm{sign}(x)$, com $x=-\\infty$ (o NumPy tem uma constante para representar \"infinito\", use-a!)\n",
    "1. Tangente hiperbólica: $\\tanh(x)$, com $x=0.3$\n",
    "1. Cosseno: $\\cos(x)$, com $x=\\pi/3$ (o NumPy tem uma constante para representar o \"pi\", use-a!)"
   ]
  },
  {
   "cell_type": "code",
   "execution_count": null,
   "metadata": {
    "id": "wuIWWjvHwFlO"
   },
   "outputs": [],
   "source": [
    "### SEU CÓDIGO COMEÇA AQUI ### (≈ 4 linhas de código)\n",
    "None\n",
    "### FIM DO CÓDIGO ###"
   ]
  },
  {
   "cell_type": "markdown",
   "metadata": {
    "id": "E8UDMr9rwFlP"
   },
   "source": [
    "**Saída esperada**:\n",
    "\n",
    "`\n",
    "Exponencial (exp):  1096.6331584284585\n",
    "Sinal (sign):  -1.0\n",
    "Tangente hiperbólica:  0.2913126124515909\n",
    "Cosseno:  0.5000000000000001\n",
    "`\n",
    "___"
   ]
  },
  {
   "cell_type": "markdown",
   "metadata": {
    "id": "J80l9Zv8wFlQ"
   },
   "source": [
    "## Plotando gráficos\n",
    "Nesta atividade você implementará um sinal senoidal $x(t)$ de fequência $\\omega$ (variável `omega`), representado no tempo \"contínuo\" (`xc`) e no tempo discreto (`xd`). É claro que em linguagem de programação não é possível representar sinais contínuos, pois é impossível termos uma variável com faixa *contínua* de valores de tempo. Mas aqui, faremos a representação de um sinal contínuo por meio de um sinal amostrado com período de amostragem bem curto (alta frquência de amostragem), de modo a termos a impressão que o sinal é realmente contínuo. Então vamos lá.\n",
    "\n",
    "### Sinal \"contínuo\"\n",
    "\n",
    "Primeiro, vamos representar a variável \"tempo contínuo\" como um vetor `t` com muitos pontos (período de amostragem curto).\n",
    "\n",
    "1. importe a biblioteca `matplotlib.pyplot` com alias `plt`, com o comando `import matplotlib.pyplot as plt`\n",
    "1. use o comando `np.linspace(t0, tf, N)` para criar um vetor de tempo no intervalo $t\\in[t_0, t_f]$, com $t_0=0$ e $t_f=7\\pi$. Faça um vetor com 100 amostras `N=100`. *Atenção! Vetores muito grandes podem deixar o processamento mais lento!*\n",
    "1. crie um sinal `xc`, representado por outro vetor, também de tamanho 100, com o seno dos intervalos de tempo apresentados, fazendo simplesmente `np.sin(t)`. O cálculo do seno é feito para cada amostra do vetor `t`.\n",
    "1. Inicie a figura com o comando `plt.figure(figsize=(8, 1.5))`. Note que os valores `8` e `1.5` são respectivamente a largura e a altura da figura.\n",
    "1. Mostre o gráfico da função com uma linha contínua. Note que é possível fazer gráficos com diferentes espessuras de linha `lw=2.5`, diferentes cores `c='k'` ('k': preto, 'b': azul, 'r': vermelho, 'g': verde, ...)\n",
    "1. adicione rótulo aos eixos vertical `$x(t)$` e horizontal `$t$ [s]` (note que os cifrões não aparecem no rótulo e só delimitam o início e fim da sintaxe de equações, escritas no formato LaTex).\n",
    "1. adicione o título \"Senóide de tempo contínuo\" na figura\n",
    "\n",
    "Você deverá usar as funções `plt.plot`, `plt.xlabel`, `plt.ylabel` e `plt.title`. O comando `plt.grid(True)` também é útil para adicionar linhas de referência no gráfico. Este tutorial pode ajudar mais: https://www.delftstack.com/pt/tutorial/matplotlib/line-chart/\n",
    "(achou um tutorial melhor? Edite esse texto incluindo o link!)"
   ]
  },
  {
   "cell_type": "code",
   "execution_count": null,
   "metadata": {
    "id": "SxePl74cwFlR"
   },
   "outputs": [],
   "source": [
    "### SEU CÓDIGO COMEÇA AQUI ### (≈ 6 linhas de código)\n",
    "t = None\n",
    "xc = None\n",
    "### FIM DO CÓDIGO ###"
   ]
  },
  {
   "attachments": {
    "image.png": {
     "image/png": "[encoded data removed]"
    }
   },
   "cell_type": "markdown",
   "metadata": {},
   "source": [
    "**Saída esperada**\n",
    "\n",
    "![image.png](attachment:image.png)\n",
    "\n",
    "<mark>**ATENÇÃO:** todos os gráficos serão avaliados e devem incluir, necessariamente, os rótulos dos eixos vertical e horizontal corretamente.</mark>"
   ]
  },
  {
   "cell_type": "markdown",
   "metadata": {
    "id": "rXpLIlkawFlR"
   },
   "source": [
    "### Sinal discreto\n",
    "\n",
    "Outra alternativa para criar vetores de tempo é usando o `np.arange(t0, tf, dt)`, com duas diferenças principais: i) no `np.arange` você especifica o intervalo de amostragem `dt` ao invés do número de pontos `N`, ii) o vetor produzido não inclui o tempo final `tf` especificado. Vamos usar esse comando agora.\n",
    "\n",
    "1. crie um vetor de amostras `n`, usando o comando `np.arange`, com intervalo de amostragem de `dt=0.5` no intervalo $n\\in[0, 7\\pi)$\n",
    "1. crie um sinal amostrado `xd`, a partir do seno de `n`, fazendo `np.sin(n)`. Note que `xd` tem menos elementos do que `xc`, pois o intervalo de amostragem do vetor de amostras `n` é maior que `t`.\n",
    "1. Inicie a figura com o comando `plt.figure(figsize=(8, 1.5))`.\n",
    "1. mostre o gráfico do sinal em tempo discreto usando o comando `plt.stem`. *Note que se você utilizar apenas `plt.stem(xd)` o eixo horizontal representará as \"amostras\" apenas, com números inteiros apenas. Execute o comando `plt.stem(n, xd)` para que o eixo horizontal seja escalado de acordo com o intervalo de tempo (em segundos) correspondente!*\n",
    "1. adicione rótulo aos eixos vertical `$x_d[n]$` e horizontal `$nT$ [s]`. *Atenção para o eixo horizontal, que não será representado em amostras $n=0, 1, 2, 3, \\dots$, mas sim em intervalos de amostragem $nT=0, 0.5, 1.0, 1.5, \\dots$* (nesta frase estou usando o ponto como separador decimal)\n",
    "1. adicione o título \"Sinal senoidal de tempo discreto\" na figura\n",
    "\n",
    "Você deverá usar as funções `plt.stem`, `plt.xlabel`, `plt.ylabel` e `plt.title`.\n",
    "\n",
    "Nota: ao usar `plt.stem`, coloque o parâmetro `use_line_collection` em `True` fazendo `plt.stem(n, xd, use_line_collection=True)`, para melhorar o desempenho (desenhar o gráfico mais rápido)."
   ]
  },
  {
   "cell_type": "code",
   "execution_count": null,
   "metadata": {
    "id": "csdW4s2hwFlS"
   },
   "outputs": [],
   "source": [
    "### SEU CÓDIGO COMEÇA AQUI ### (≈ 6 linhas de código)\n",
    "None\n",
    "### FIM DO CÓDIGO ###"
   ]
  },
  {
   "attachments": {
    "Ex01_xd.png": {
     "image/png": "[encoded data removed]"
    }
   },
   "cell_type": "markdown",
   "metadata": {
    "id": "EkK2rDrQwFlS"
   },
   "source": [
    "**Saída esperada**\n",
    "![Ex01_xd.png](attachment:Ex01_xd.png)\n",
    "\n",
    "### Figuras interativas (opcional, se não fizer, não vai peder pontos)\n",
    "\n",
    "Você pode adicionar interatividade nas figuras por meio do `ipympl`. Veja instruções na página https://github.com/matplotlib/ipympl. Será necessário instalar o pacote:\n",
    "- Abra o \"Anaconda Prompt\"\n",
    "- Digite o comando `conda install -c conda-forge ipympl`\n",
    "- Confirme a instalação e aguarde finalizar com sucesso\n",
    "- Reinicie o Jupyter Notebook (caso esteja aberto)\n",
    "- Para ver as figuras interativas você deve executar o comando mágico `%matplotlib widget`\n",
    "- Caso deseje ver as figuras estáticas execute `%matplotlib inline`\n",
    "\n",
    "Plote abaixo o sinal $x(t)$ de forma interativa!"
   ]
  },
  {
   "cell_type": "code",
   "execution_count": null,
   "metadata": {
    "id": "yJjU3e-CwFlT"
   },
   "outputs": [],
   "source": [
    "### SEU CÓDIGO COMEÇA AQUI ### (≈ 7 linhas de código)\n",
    "None\n",
    "### FIM DO CÓDIGO ###"
   ]
  },
  {
   "cell_type": "markdown",
   "metadata": {
    "id": "t1Ni7NijwFlT"
   },
   "source": [
    "**Saída esperada**\n",
    "\n",
    "*Mesma imagem de tempo contínuo, mas interativa, permitindo alterar o tamanho, zoom e movimentação no gráfico.*\n",
    "___"
   ]
  },
  {
   "cell_type": "markdown",
   "metadata": {
    "id": "vHObpfR9wFlU"
   },
   "source": [
    "## Criando a Função Degrau\n",
    "\n",
    "Crie abaixo uma função que, a partir de um vetor de \"tempo\" (como os vetores construidos anteriormente), retorne um vetor, de mesma dimensão, com a função degrau unitário. A função deve ter os seguintes parâmetros:\n",
    "1. Nome da função:\n",
    "  + `degrau()`\n",
    "1. Entrada:\n",
    "  + `t`: vetor de amostras, com dimensão qualquer (para saber a dimensão de um vetor use o comando `np.size` ou `len`)\n",
    "1. Saída:\n",
    "  + `u`: vetor com os respectivos valores $u(t^{(i)})$ para cada $i$-ésima amostra do vetor `t`\n",
    "\n",
    "Use o degrau unitário $u(t)$ como\n",
    "$$u(t) = 1, \\forall t >=0 \\\\ u(t) = 0, \\forall t <0$$\n",
    "\n",
    "Abaixo você deve fazer o seguinte:\n",
    "1. Crie a função `degrau()` conforme especificações\n",
    "1. Use a função criada `degrau()` para gerar um sinal de degrau na variável `u` no intervalo entre $t\\in[-5,10]$, com 200 amostras.\n",
    "2. Crie um outro sinal, na variável `ur`, em que $u_r(t)=u(t)+e(t)$, sendo $e(t)$ um ruído aleatório, gaussiano, com média nula e desvio padrão $\\sigma=0.2$.\n",
    "1. Mostre num único gráfico o sinal $u(t)$, na cor preta, tracejado, com espessura de linha `2`, e o sinal $u_r(t)$, em linha contínua, na cor vermelha, com espessura de linha `0.5`\n",
    "1. Adicione legenda no gráfico, usando o comando `plt.legend`\n",
    "1. **Sempre coloque rótulos nos eixos do gráfico!**\n",
    "\n",
    "Para construir o sinal aleatório $e(t)$ use o comando `np.random.normal(mu, sig, N)`, em que `mu` é a média, `sig` o desvio padrão e `N` o número de elementos do vetor. Mais informações em https://numpy.org/devdocs/reference/random/generated/numpy.random.normal.html#numpy.random.normal"
   ]
  },
  {
   "cell_type": "code",
   "execution_count": null,
   "metadata": {
    "id": "1qIuXKwYwFlU"
   },
   "outputs": [],
   "source": [
    "### SEU CÓDIGO COMEÇA AQUI ### (≈ 18 linhas de código)\n",
    "def degrau(t=None):\n",
    "    return None\n",
    "\n",
    "### FIM DO CÓDIGO ###"
   ]
  },
  {
   "attachments": {
    "Ex01_degrau.png": {
     "image/png": "[encoded data removed]"
    }
   },
   "cell_type": "markdown",
   "metadata": {},
   "source": [
    "**Saída esperada**\n",
    "\n",
    "*Gráfico da função degrau junto com um degrau com ruído, semelhante ao apresentado abaixo.*\n",
    "\n",
    "![Ex01_degrau.png](attachment:Ex01_degrau.png)\n",
    "\n",
    "___"
   ]
  },
  {
   "cell_type": "markdown",
   "metadata": {
    "id": "q8drw6RFwFlU"
   },
   "source": [
    "## Usando a função criada\n",
    "\n",
    "Use a função criada para produzir um sinal de \"pulso\" $p(t)$, em que:\n",
    "\n",
    "$p(t) = 2, \\forall -2 < t <= 1 \\\\ p(t) = 0, \\mathrm{c.c.}$\n",
    "\n",
    "*Lembre-se: é possível produzir um sinal \"pulso\" a partir de sinais do tipo degrau*. Faça um gráfico do sinal pulso $p(t)$ no intervalo $t\\in[-3; 3]$. Não é necessário criar uma função \"pulso\", mas apenas gerar um sinal correspondente!\n",
    "\n",
    "<mark> **ATENÇÃO**: você não deve criar OUTRA FUNÇÃO denominada 'pulso'. É para aproveitar a função `degrau(t)` já implementada na célula acima (todas as células compartilham o workspace de variáveis!) para produzir um sinal do tipo pulso. <\\mark>"
   ]
  },
  {
   "cell_type": "code",
   "execution_count": null,
   "metadata": {
    "id": "GYe8PChHwFlV"
   },
   "outputs": [],
   "source": [
    "### SEU CÓDIGO COMEÇA AQUI ###\n",
    "None\n",
    "### FIM DO CÓDIGO ###"
   ]
  },
  {
   "cell_type": "markdown",
   "metadata": {
    "id": "uUZbSwOMwFlV"
   },
   "source": [
    "**Saída esperada**\n",
    "\n",
    "*Gráfico da função pulso com dimensões apropriadas, rótulo nos eixos e título na imagem.*\n",
    "___\n",
    "Fim... (acabou rápido? Faça o desafio abaixo!)\n",
    "\n",
    "\n",
    "## Desafio! (opcional, se você não fizer, não perderá pontos)\n",
    "\n",
    "Procure saber o que é \"relação sinal-ruído\" (signal-to-noise ratio), abreviado como SNR, e como é calculada. Faça um texto explicando e mostrando a forma de calcular. Como exemplo, faça três gráficos de sinais senoidais idênticos somados com diferentes ruídos (sinais aleatórios com diferentes variâncias). Calcule o SNR para cada um dos sinais e apresente no título de cada gráfico para comparação o SNR calculado em amplitude e em dB."
   ]
  },
  {
   "cell_type": "code",
   "execution_count": null,
   "metadata": {},
   "outputs": [],
   "source": []
  },
  {
   "cell_type": "markdown",
   "metadata": {},
   "source": [
    "## Mais um desafio! (opcional, se você não fizer, não perderá pontos)\n",
    "\n",
    "Plote os gráficos acima usando a bilioteca **Plotly** (https://plotly.com/python/)."
   ]
  },
  {
   "cell_type": "code",
   "execution_count": null,
   "metadata": {},
   "outputs": [],
   "source": []
  },
  {
   "cell_type": "markdown",
   "metadata": {},
   "source": [
    "___\n",
    "ufa, acabou :c)"
   ]
  }
 ],
 "metadata": {
  "colab": {
   "include_colab_link": true,
   "name": "Ex01_sinais_SEUNOME.ipynb",
   "provenance": []
  },
  "kernelspec": {
   "display_name": "Python 3",
   "language": "python",
   "name": "python3"
  },
  "language_info": {
   "codemirror_mode": {
    "name": "ipython",
    "version": 3
   },
   "file_extension": ".py",
   "mimetype": "text/x-python",
   "name": "python",
   "nbconvert_exporter": "python",
   "pygments_lexer": "ipython3",
   "version": "3.6.15"
  },
  "toc": {
   "base_numbering": 1,
   "nav_menu": {
    "height": "228px",
    "width": "370px"
   },
   "number_sections": true,
   "sideBar": true,
   "skip_h1_title": false,
   "title_cell": "Table of Contents",
   "title_sidebar": "Contents",
   "toc_cell": false,
   "toc_position": {},
   "toc_section_display": true,
   "toc_window_display": false
  },
  "varInspector": {
   "cols": {
    "lenName": 16,
    "lenType": 16,
    "lenVar": 40
   },
   "kernels_config": {
    "python": {
     "delete_cmd_postfix": "",
     "delete_cmd_prefix": "del ",
     "library": "var_list.py",
     "varRefreshCmd": "print(var_dic_list())"
    },
    "r": {
     "delete_cmd_postfix": ") ",
     "delete_cmd_prefix": "rm(",
     "library": "var_list.r",
     "varRefreshCmd": "cat(var_dic_list()) "
    }
   },
   "types_to_exclude": [
    "module",
    "function",
    "builtin_function_or_method",
    "instance",
    "_Feature"
   ],
   "window_display": false
  }
 },
 "nbformat": 4,
 "nbformat_minor": 1
}
